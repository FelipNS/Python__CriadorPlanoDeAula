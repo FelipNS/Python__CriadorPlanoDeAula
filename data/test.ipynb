{
 "cells": [
  {
   "cell_type": "code",
   "execution_count": null,
   "metadata": {},
   "outputs": [],
   "source": [
    "import pandas as pd\n",
    "import numpy as np\n"
   ]
  },
  {
   "cell_type": "code",
   "execution_count": null,
   "metadata": {},
   "outputs": [],
   "source": [
    "file = pd.ExcelFile('data_classes.xlsm')\n",
    "\n",
    "df_portuguese = file.parse('Português')\n",
    "df_art = file.parse('Artes')\n",
    "df_math = file.parse('Matemática')\n",
    "df_science = file.parse('Ciências')\n",
    "df_geography = file.parse('Geografia')\n",
    "df_history = file.parse('História')\n",
    "df_religion = file.parse('E. Religioso')\n",
    "\n",
    "class_df_dict = {\n",
    "    'portuguese': df_portuguese, \n",
    "    'art': df_art,\n",
    "    'math':df_math,\n",
    "    'science': df_science,\n",
    "    'geography': df_geography,\n",
    "    'history': df_history,\n",
    "    'religion': df_religion\n",
    "}"
   ]
  },
  {
   "cell_type": "code",
   "execution_count": null,
   "metadata": {},
   "outputs": [],
   "source": [
    "def get_class_df() -> dict:\n",
    "    return class_df_dict\n",
    "\n",
    "def get_names_sheet() -> list:\n",
    "    return file.sheet_names"
   ]
  },
  {
   "cell_type": "code",
   "execution_count": null,
   "metadata": {},
   "outputs": [],
   "source": [
    "df = get_class_df()['art']"
   ]
  },
  {
   "cell_type": "code",
   "execution_count": null,
   "metadata": {},
   "outputs": [],
   "source": [
    "print(df[(df['Campos de Atuação']=='CAMPO DA VIDA COTIDIANA') &\n",
    "         (df['Práticas de Linguagem']=='Oralidade') &\n",
    "         (df['Objetos de Conhecimento']=='Produção de texto oral')]['Habilidades'])"
   ]
  },
  {
   "cell_type": "code",
   "execution_count": 39,
   "metadata": {},
   "outputs": [
    {
     "name": "stdout",
     "output_type": "stream",
     "text": [
      "48    (EF15AR20B) - Explorar desde a teatralidade do...\n",
      "49    (EF15AR21) Exercitar a imitação e o faz de con...\n",
      "50    (EF15AR21MG) Ressignificar vivências cotidiana...\n",
      "51    (EF15AR22x) Experimentar possibilidades criati...\n",
      "Name: Habilidades, dtype: object\n"
     ]
    }
   ],
   "source": [
    "print(df[(df['Unidades Temáticas']=='Teatro') &\n",
    "              (df['Objetos de Conhecimento']=='Processos de criação')]['Habilidades'])"
   ]
  },
  {
   "cell_type": "code",
   "execution_count": 50,
   "metadata": {},
   "outputs": [
    {
     "name": "stderr",
     "output_type": "stream",
     "text": [
      "C:\\Users\\Public\\Documents\\Wondershare\\CreatorTemp/ipykernel_17116/3413841854.py:2: SettingWithCopyWarning: \n",
      "A value is trying to be set on a copy of a slice from a DataFrame\n",
      "\n",
      "See the caveats in the documentation: https://pandas.pydata.org/pandas-docs/stable/user_guide/indexing.html#returning-a-view-versus-a-copy\n",
      "  df_filtered.drop('Unidades Temáticas', axis='columns', inplace=True)\n"
     ]
    },
    {
     "data": {
      "text/html": [
       "<div>\n",
       "<style scoped>\n",
       "    .dataframe tbody tr th:only-of-type {\n",
       "        vertical-align: middle;\n",
       "    }\n",
       "\n",
       "    .dataframe tbody tr th {\n",
       "        vertical-align: top;\n",
       "    }\n",
       "\n",
       "    .dataframe thead th {\n",
       "        text-align: right;\n",
       "    }\n",
       "</style>\n",
       "<table border=\"1\" class=\"dataframe\">\n",
       "  <thead>\n",
       "    <tr style=\"text-align: right;\">\n",
       "      <th></th>\n",
       "      <th>Objetos de Conhecimento</th>\n",
       "      <th>Habilidades</th>\n",
       "    </tr>\n",
       "  </thead>\n",
       "  <tbody>\n",
       "    <tr>\n",
       "      <th>42</th>\n",
       "      <td>Contextos e práticas</td>\n",
       "      <td>(EF15AR18AX) Reconhecer formas distintas de ma...</td>\n",
       "    </tr>\n",
       "    <tr>\n",
       "      <th>43</th>\n",
       "      <td>Contextos e práticas</td>\n",
       "      <td>(EF15AR18BX) Apreciar formas distintas de mani...</td>\n",
       "    </tr>\n",
       "    <tr>\n",
       "      <th>44</th>\n",
       "      <td>Contextos e práticas</td>\n",
       "      <td>(EF15AR18MG) Estimular a percepção, o imaginár...</td>\n",
       "    </tr>\n",
       "    <tr>\n",
       "      <th>45</th>\n",
       "      <td>Elementos da linguagem</td>\n",
       "      <td>(EF15AR19X) Identificar elementos básicos da e...</td>\n",
       "    </tr>\n",
       "    <tr>\n",
       "      <th>46</th>\n",
       "      <td>Elementos da linguagem</td>\n",
       "      <td>(EF15AR19MG) Experimentar vivências Teatrais a...</td>\n",
       "    </tr>\n",
       "    <tr>\n",
       "      <th>47</th>\n",
       "      <td>Elementos da linguagem</td>\n",
       "      <td>(EF15AR20A) - Experimentar o trabalho colabora...</td>\n",
       "    </tr>\n",
       "    <tr>\n",
       "      <th>48</th>\n",
       "      <td>Processos de criação</td>\n",
       "      <td>(EF15AR20B) - Explorar desde a teatralidade do...</td>\n",
       "    </tr>\n",
       "    <tr>\n",
       "      <th>49</th>\n",
       "      <td>Processos de criação</td>\n",
       "      <td>(EF15AR21) Exercitar a imitação e o faz de con...</td>\n",
       "    </tr>\n",
       "    <tr>\n",
       "      <th>50</th>\n",
       "      <td>Processos de criação</td>\n",
       "      <td>(EF15AR21MG) Ressignificar vivências cotidiana...</td>\n",
       "    </tr>\n",
       "    <tr>\n",
       "      <th>51</th>\n",
       "      <td>Processos de criação</td>\n",
       "      <td>(EF15AR22x) Experimentar possibilidades criati...</td>\n",
       "    </tr>\n",
       "  </tbody>\n",
       "</table>\n",
       "</div>"
      ],
      "text/plain": [
       "   Objetos de Conhecimento                                        Habilidades\n",
       "42    Contextos e práticas  (EF15AR18AX) Reconhecer formas distintas de ma...\n",
       "43    Contextos e práticas  (EF15AR18BX) Apreciar formas distintas de mani...\n",
       "44    Contextos e práticas  (EF15AR18MG) Estimular a percepção, o imaginár...\n",
       "45  Elementos da linguagem  (EF15AR19X) Identificar elementos básicos da e...\n",
       "46  Elementos da linguagem  (EF15AR19MG) Experimentar vivências Teatrais a...\n",
       "47  Elementos da linguagem  (EF15AR20A) - Experimentar o trabalho colabora...\n",
       "48    Processos de criação  (EF15AR20B) - Explorar desde a teatralidade do...\n",
       "49    Processos de criação  (EF15AR21) Exercitar a imitação e o faz de con...\n",
       "50    Processos de criação  (EF15AR21MG) Ressignificar vivências cotidiana...\n",
       "51    Processos de criação  (EF15AR22x) Experimentar possibilidades criati..."
      ]
     },
     "execution_count": 50,
     "metadata": {},
     "output_type": "execute_result"
    }
   ],
   "source": [
    "df_filtered = df[(df['Unidades Temáticas']=='Teatro')]\n",
    "df_filtered.drop('Unidades Temáticas', axis='columns', inplace=True)\n",
    "df_filtered"
   ]
  }
 ],
 "metadata": {
  "interpreter": {
   "hash": "cfcfbbd76e88e95dc35e2ca9edf0c1e882d0553cc29bc4cac8c0f4eabeb0ecb9"
  },
  "kernelspec": {
   "display_name": "Python 3.10.0 64-bit",
   "language": "python",
   "name": "python3"
  },
  "language_info": {
   "codemirror_mode": {
    "name": "ipython",
    "version": 3
   },
   "file_extension": ".py",
   "mimetype": "text/x-python",
   "name": "python",
   "nbconvert_exporter": "python",
   "pygments_lexer": "ipython3",
   "version": "3.10.0"
  },
  "orig_nbformat": 4
 },
 "nbformat": 4,
 "nbformat_minor": 2
}
